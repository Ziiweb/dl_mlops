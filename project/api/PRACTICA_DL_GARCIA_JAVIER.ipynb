{
 "cells": [
  {
   "cell_type": "code",
   "execution_count": 1,
   "metadata": {},
   "outputs": [
    {
     "name": "stdout",
     "output_type": "stream",
     "text": [
      "Requirement already satisfied: torchvision in /home/tirengarfio/Downloads/dl_mlops/lib/python3.12/site-packages (0.22.0)\n",
      "Requirement already satisfied: numpy in /home/tirengarfio/Downloads/dl_mlops/lib/python3.12/site-packages (from torchvision) (2.2.5)\n",
      "Requirement already satisfied: torch==2.7.0 in /home/tirengarfio/Downloads/dl_mlops/lib/python3.12/site-packages (from torchvision) (2.7.0)\n",
      "Requirement already satisfied: pillow!=8.3.*,>=5.3.0 in /home/tirengarfio/Downloads/dl_mlops/lib/python3.12/site-packages (from torchvision) (11.2.1)\n",
      "Requirement already satisfied: filelock in /home/tirengarfio/Downloads/dl_mlops/lib/python3.12/site-packages (from torch==2.7.0->torchvision) (3.18.0)\n",
      "Requirement already satisfied: typing-extensions>=4.10.0 in /home/tirengarfio/Downloads/dl_mlops/lib/python3.12/site-packages (from torch==2.7.0->torchvision) (4.13.2)\n",
      "Requirement already satisfied: setuptools in /home/tirengarfio/Downloads/dl_mlops/lib/python3.12/site-packages (from torch==2.7.0->torchvision) (80.4.0)\n",
      "Requirement already satisfied: sympy>=1.13.3 in /home/tirengarfio/Downloads/dl_mlops/lib/python3.12/site-packages (from torch==2.7.0->torchvision) (1.14.0)\n",
      "Requirement already satisfied: networkx in /home/tirengarfio/Downloads/dl_mlops/lib/python3.12/site-packages (from torch==2.7.0->torchvision) (3.4.2)\n",
      "Requirement already satisfied: jinja2 in /home/tirengarfio/Downloads/dl_mlops/lib/python3.12/site-packages (from torch==2.7.0->torchvision) (3.1.6)\n",
      "Requirement already satisfied: fsspec in /home/tirengarfio/Downloads/dl_mlops/lib/python3.12/site-packages (from torch==2.7.0->torchvision) (2025.3.2)\n",
      "Requirement already satisfied: nvidia-cuda-nvrtc-cu12==12.6.77 in /home/tirengarfio/Downloads/dl_mlops/lib/python3.12/site-packages (from torch==2.7.0->torchvision) (12.6.77)\n",
      "Requirement already satisfied: nvidia-cuda-runtime-cu12==12.6.77 in /home/tirengarfio/Downloads/dl_mlops/lib/python3.12/site-packages (from torch==2.7.0->torchvision) (12.6.77)\n",
      "Requirement already satisfied: nvidia-cuda-cupti-cu12==12.6.80 in /home/tirengarfio/Downloads/dl_mlops/lib/python3.12/site-packages (from torch==2.7.0->torchvision) (12.6.80)\n",
      "Requirement already satisfied: nvidia-cudnn-cu12==9.5.1.17 in /home/tirengarfio/Downloads/dl_mlops/lib/python3.12/site-packages (from torch==2.7.0->torchvision) (9.5.1.17)\n",
      "Requirement already satisfied: nvidia-cublas-cu12==12.6.4.1 in /home/tirengarfio/Downloads/dl_mlops/lib/python3.12/site-packages (from torch==2.7.0->torchvision) (12.6.4.1)\n",
      "Requirement already satisfied: nvidia-cufft-cu12==11.3.0.4 in /home/tirengarfio/Downloads/dl_mlops/lib/python3.12/site-packages (from torch==2.7.0->torchvision) (11.3.0.4)\n",
      "Requirement already satisfied: nvidia-curand-cu12==10.3.7.77 in /home/tirengarfio/Downloads/dl_mlops/lib/python3.12/site-packages (from torch==2.7.0->torchvision) (10.3.7.77)\n",
      "Requirement already satisfied: nvidia-cusolver-cu12==11.7.1.2 in /home/tirengarfio/Downloads/dl_mlops/lib/python3.12/site-packages (from torch==2.7.0->torchvision) (11.7.1.2)\n",
      "Requirement already satisfied: nvidia-cusparse-cu12==12.5.4.2 in /home/tirengarfio/Downloads/dl_mlops/lib/python3.12/site-packages (from torch==2.7.0->torchvision) (12.5.4.2)\n",
      "Requirement already satisfied: nvidia-cusparselt-cu12==0.6.3 in /home/tirengarfio/Downloads/dl_mlops/lib/python3.12/site-packages (from torch==2.7.0->torchvision) (0.6.3)\n",
      "Requirement already satisfied: nvidia-nccl-cu12==2.26.2 in /home/tirengarfio/Downloads/dl_mlops/lib/python3.12/site-packages (from torch==2.7.0->torchvision) (2.26.2)\n",
      "Requirement already satisfied: nvidia-nvtx-cu12==12.6.77 in /home/tirengarfio/Downloads/dl_mlops/lib/python3.12/site-packages (from torch==2.7.0->torchvision) (12.6.77)\n",
      "Requirement already satisfied: nvidia-nvjitlink-cu12==12.6.85 in /home/tirengarfio/Downloads/dl_mlops/lib/python3.12/site-packages (from torch==2.7.0->torchvision) (12.6.85)\n",
      "Requirement already satisfied: nvidia-cufile-cu12==1.11.1.6 in /home/tirengarfio/Downloads/dl_mlops/lib/python3.12/site-packages (from torch==2.7.0->torchvision) (1.11.1.6)\n",
      "Requirement already satisfied: triton==3.3.0 in /home/tirengarfio/Downloads/dl_mlops/lib/python3.12/site-packages (from torch==2.7.0->torchvision) (3.3.0)\n",
      "Requirement already satisfied: mpmath<1.4,>=1.1.0 in /home/tirengarfio/Downloads/dl_mlops/lib/python3.12/site-packages (from sympy>=1.13.3->torch==2.7.0->torchvision) (1.3.0)\n",
      "Requirement already satisfied: MarkupSafe>=2.0 in /home/tirengarfio/Downloads/dl_mlops/lib/python3.12/site-packages (from jinja2->torch==2.7.0->torchvision) (3.0.2)\n",
      "Requirement already satisfied: matplotlib in /home/tirengarfio/Downloads/dl_mlops/lib/python3.12/site-packages (3.10.3)\n",
      "Requirement already satisfied: contourpy>=1.0.1 in /home/tirengarfio/Downloads/dl_mlops/lib/python3.12/site-packages (from matplotlib) (1.3.2)\n",
      "Requirement already satisfied: cycler>=0.10 in /home/tirengarfio/Downloads/dl_mlops/lib/python3.12/site-packages (from matplotlib) (0.12.1)\n",
      "Requirement already satisfied: fonttools>=4.22.0 in /home/tirengarfio/Downloads/dl_mlops/lib/python3.12/site-packages (from matplotlib) (4.58.0)\n",
      "Requirement already satisfied: kiwisolver>=1.3.1 in /home/tirengarfio/Downloads/dl_mlops/lib/python3.12/site-packages (from matplotlib) (1.4.8)\n",
      "Requirement already satisfied: numpy>=1.23 in /home/tirengarfio/Downloads/dl_mlops/lib/python3.12/site-packages (from matplotlib) (2.2.5)\n",
      "Requirement already satisfied: packaging>=20.0 in /home/tirengarfio/Downloads/dl_mlops/lib/python3.12/site-packages (from matplotlib) (25.0)\n",
      "Requirement already satisfied: pillow>=8 in /home/tirengarfio/Downloads/dl_mlops/lib/python3.12/site-packages (from matplotlib) (11.2.1)\n",
      "Requirement already satisfied: pyparsing>=2.3.1 in /home/tirengarfio/Downloads/dl_mlops/lib/python3.12/site-packages (from matplotlib) (3.2.3)\n",
      "Requirement already satisfied: python-dateutil>=2.7 in /home/tirengarfio/Downloads/dl_mlops/lib/python3.12/site-packages (from matplotlib) (2.9.0.post0)\n",
      "Requirement already satisfied: six>=1.5 in /home/tirengarfio/Downloads/dl_mlops/lib/python3.12/site-packages (from python-dateutil>=2.7->matplotlib) (1.17.0)\n"
     ]
    }
   ],
   "source": [
    "!pip install torchvision\n",
    "!pip install matplotlib"
   ]
  },
  {
   "cell_type": "code",
   "execution_count": 2,
   "metadata": {},
   "outputs": [],
   "source": [
    "import torch\n",
    "import torch.nn as nn\n",
    "import torch.nn.functional as F\n",
    "import torchvision\n",
    "import torchvision.transforms as transforms\n",
    "import matplotlib.pyplot as plt\n"
   ]
  },
  {
   "cell_type": "markdown",
   "metadata": {},
   "source": [
    "Establecemos la configuración de nuestro CVAE. Recordamos que el batch size es el numero de imágenes procesadas juntas."
   ]
  },
  {
   "cell_type": "code",
   "execution_count": 3,
   "metadata": {},
   "outputs": [],
   "source": [
    "\n",
    "# Configuración\n",
    "batch_size = 128\n",
    "latent_dim = 16  # Dimensión del espacio latente\n",
    "num_classes = 10  # Dígitos del 0 al 9"
   ]
  },
  {
   "cell_type": "markdown",
   "metadata": {},
   "source": [
    "Descargamos los datos de entrenamiento (train=True) y prueba (train=False) del dataset MNIST, y transformamos las imagenes de los números a tensores. Los tensores tendrán 3 dimensiones: canal (1 por ser una imagen en escala de grises), alto (28) y ancho (28).  "
   ]
  },
  {
   "cell_type": "code",
   "execution_count": 4,
   "metadata": {},
   "outputs": [],
   "source": [
    "\n",
    "# Cargar MNIST con transformación a tensores\n",
    "transform = transforms.Compose([transforms.ToTensor()])\n",
    "\n",
    "train_dataset = torchvision.datasets.MNIST(\n",
    "    root='./data', \n",
    "    train=True, \n",
    "    transform=transform,\n",
    "    download=True\n",
    ")\n",
    "test_dataset = torchvision.datasets.MNIST(\n",
    "    root='./data',\n",
    "    train=False,\n",
    "    transform=transform,\n",
    "    download=True\n",
    ")"
   ]
  },
  {
   "cell_type": "markdown",
   "metadata": {},
   "source": [
    "Pasamos los datos de entrenamiento y test a una estructura DataLoader, pasando como parametro el batch size para procesar el dataset por lotes. De esa manera los tensores pasan de 3 a 4 dimensiones (B, C, H, W)."
   ]
  },
  {
   "cell_type": "code",
   "execution_count": 5,
   "metadata": {},
   "outputs": [],
   "source": [
    "\n",
    "train_loader = torch.utils.data.DataLoader(\n",
    "    train_dataset,\n",
    "    batch_size=batch_size,\n",
    "    shuffle=True\n",
    ")\n",
    "test_loader = torch.utils.data.DataLoader(\n",
    "    test_dataset,\n",
    "    batch_size=batch_size,\n",
    "    shuffle=False\n",
    ")\n"
   ]
  },
  {
   "cell_type": "markdown",
   "metadata": {},
   "source": [
    "&nbsp;\n",
    "&nbsp;\n",
    "#### Encoder de CVAE\n",
    "\n",
    "El objetivo del encoder es transformar una imagen (28x28) y su etiqueta (10) en un espacio latente de dimension \"laten_dim\" (16 en este caso). En el espacio latente cada dato de entrada (imagen + etiqueta) está representado (mapeado) con una distribución probabilística, compuesto de la media y la varianza del dato de entrada.\n",
    "\n",
    "**Método init()**:\n",
    "\n",
    "En la función init() definimos los elementos que formarán parte del encoder. Como se puede ver, esos elementos son:\n",
    "* fc1: una capa lineal de 794 neuronas de entrada y 400 neuronas de salida. La razón de las 794 neuronas es que necesitamos introducir en ellas las imágenes y su etiqueta correspondiente, ambas en forma de tensor. El número 794 es el resultado de sumar 28*28 (768 = número de pixels de la imagen aplanada) y 10 (número de clases, del 0 al 9). El número de salidas de esa primrea capa lineal, 400, es porque la entrada del las capas fc2_mean y fc2_logvar es 400 también.\n",
    "\n",
    "* fc2_mean: capa que calcula la **media** (centro) de cada uno de los datos de entrada (imagen + etiqueta).\n",
    "\n",
    "* fc2_logvar: capa que calcula la **varianza** (centro) de cada uno de los datos de entrada (imagen + etiqueta).\n",
    "\n",
    "**Método forward()**:\n",
    "\n",
    "En un modelo CVAE, la entrada de cada uno de los datos tiene que llevar asociada su etiqueta correspondiente. Es decir al introducir en el modelo la imagen de un número 5, tendremos que añadir su etiqueta 5. La etiqueta será un tensor pyTorch, que se introduce en el encoder junto con la imagen. Por ejemplo, la etiqueta del número 5 es un tensor de 10 valores tal que [0, 0, 0, 0, 0, 1, 0, 0, 0, 0].\n",
    "\n",
    "Recordemos que en una celda previa, las imágenes las hemos convertido a tensores pyTorch, de la misma manera actuaremos con las etiquetas, es decir las convertiremos a tensores. De esta manera, al ser las dos elementos tensores, podremos concatenarlos para pasarlos a fc1 juntos. Dicha operación la realizamos a través de la función de pyTorch \"torch.cat()\". Para la concatenación, es necesario que ambos elementos tengan el mismo número de dimensiones, si no, dara error. Así que será necesario aplanar la imagen para que pasé de de 3 a 2 dimensiones al igual que la etiqueta.\n",
    "\n",
    "Al final del método calculamos la media y la varianza del vector y los devolvemos.\n"
   ]
  },
  {
   "cell_type": "code",
   "execution_count": 6,
   "metadata": {},
   "outputs": [],
   "source": [
    "class Encoder(nn.Module):\n",
    "    def __init__(self, z_dim):\n",
    "        super(Encoder, self).__init__()\n",
    "        self.fc1 = nn.Linear(28*28 + num_classes, 400) # images are 28x28\n",
    "\n",
    "        print(num_classes)\n",
    "\n",
    "        self.fc2_mean = nn.Linear(400, z_dim)\n",
    "        self.fc2_logvar = nn.Linear(400, z_dim)\n",
    "        self.relu = nn.ReLU()\n",
    "\n",
    "    def forward(self, x, label):\n",
    "        # Flatten the 28x28 images so the concatenation in the next line works correctly. Otherwise, \n",
    "        # the concatenation would not work as x (image converted to PyTorch tensor) has dimension\n",
    "        # [batch, 28, 28] and label (classes converted to PyTorch tensor) has dimension\n",
    "        # [batch, 10].\n",
    "        x = x.view(-1, 28*28)  \n",
    "\n",
    "        x_label = torch.cat([x, label], dim=-1) # concatenamos la imagen y su etiqueta y el resultado lo asignmos a la variable \"x_label\" (\"x\" por la imagen y \"label\" por la etiqueta).\n",
    "        \n",
    "        x_label_relu = self.relu(self.fc1(x_label))\n",
    "\n",
    "        z_mean = self.fc2_mean(x_label_relu)\n",
    "        z_logvar = self.fc2_logvar(x_label_relu)\n",
    "        \n",
    "        return z_mean, z_logvar"
   ]
  },
  {
   "cell_type": "markdown",
   "metadata": {},
   "source": [
    "#### Decoder de CVAE\n",
    "\n",
    "Esto es el código del decoder CVAE, que recibe como entrada un vector proveniente del espacio latente \"z\" (dimensión 16 en este caso) y una etiqueta de clase (número a partir del cual queremos que se genere una imagen), y genera una imagen reconstruida.\n",
    "\n",
    "**Método init()**\n",
    "\n",
    "* fc1 (convierte vectores de 26 dimensiones a vectores de 400 dimensiones): \n",
    "    * entrada:  26 neuronas, para poder recibir vectores de 26 elementos, ya que concatenamos vectores del espacio latente (16) y vectores que representan el número del que se quieren generar imágenes.\n",
    "    * salida: 400 neuronas. Se elige 400 porque suele ser el valor que mejores resultados da. \n",
    "\n",
    "* fc2 (convierte vectores de 400 dimensiones a vectores de 784 dimensiones): \n",
    "    * entrada: 400 neuronas\n",
    "    * salida: 784 neuronas ya que las imagenes que queremos generar son de 28x28.\n",
    "    \n",
    "* sigmoid: convierte vectores de 784 elementos a imágenes de tamaño 28x28.\n",
    "\n",
    "**Método forward()**\n",
    "\n",
    "* 1. Concatenamos el vector que viene del espacio latente con el vector asociado a la etiqueta del número que queremos generar una imagen.\n",
    "* 2. Lo introducimos en fc1.\n",
    "* 3. Lo pasamos por la capa de activación relu.\n",
    "* 4. Lo introducimos en fc2.\n",
    "* 5. Lo pasamos por la capa sigmoide para generar la imagen."
   ]
  },
  {
   "cell_type": "code",
   "execution_count": 7,
   "metadata": {},
   "outputs": [],
   "source": [
    "class Decoder(nn.Module):\n",
    "    \n",
    "    def __init__(self, z_dim):\n",
    "    \n",
    "        super(Decoder, self).__init__()\n",
    "    \n",
    "        self.fc1 = nn.Linear(z_dim + num_classes, 400)  # z_dim + num_classes (para la etiqueta)\n",
    "        \n",
    "        self.relu = nn.ReLU()\n",
    "        \n",
    "        self.fc2 = nn.Linear(400, 28*28)\n",
    "        \n",
    "        self.sigmoid = nn.Sigmoid()\n",
    "\n",
    "    def forward(self, z, label):\n",
    "\n",
    "        z_label = torch.cat([z, label], dim=-1)  # Concatenamos z con la etiqueta\n",
    "        \n",
    "        x = self.fc1(z_label)\n",
    "        \n",
    "        # Le he metido entre las capas lineales una Relu porque Pablo me ha dicho que las capas lineales\n",
    "        # sin \"nada\" entre medias es como si no hiciesemos \"nada\". Es decir, da lo mismo si pones 1 o 100 capas\n",
    "        # lineales si no pones \"nada\" entre medias.\n",
    "        x = self.relu(x) \n",
    "        x = self.fc2(x)\n",
    "        return self.sigmoid(x).view(-1, 28, 28)  # Reconstrucción de la imagen"
   ]
  },
  {
   "cell_type": "markdown",
   "metadata": {},
   "source": [
    "### CVAE\n",
    "\n",
    "Aquí implementamos el modelo generativo condicional.\n",
    "\n",
    "**Método init()**\n",
    "\n",
    "1. Creamos una instancia del encoder.\n",
    "2. Creamos una instancia del decoder.\n",
    "\n",
    "**Método reparameterize()**\n",
    "\n",
    "Este método se llama entre el encoder y el decoder, es decir, toma las salidas del encoder (media y varianza) y devuelve un vector del espacio latente que se pasa al decoder.\n",
    "\n",
    "En su interior se realiza el llamado \"reparameterization trick\".\n",
    "\n",
    "**Método forward()**\n",
    "\n",
    "1. Llamamo al encoder pasandole la imagen y su correspondiente etiqueta.\n",
    "2. Llamamo al reparameterize() para hacer el \"reparameterization trick\"."
   ]
  },
  {
   "cell_type": "code",
   "execution_count": 8,
   "metadata": {},
   "outputs": [],
   "source": [
    "class CVAE(nn.Module):\n",
    "\n",
    "    def __init__(self, z_dim):\n",
    "\n",
    "        super(CVAE, self).__init__()\n",
    "\n",
    "        self.encoder = Encoder(z_dim)\n",
    "\n",
    "        self.decoder = Decoder(z_dim)\n",
    "\n",
    "\n",
    "    def reparameterize(self, mean, logvar):\n",
    "\n",
    "        std = torch.exp(0.5 * logvar)\n",
    "\n",
    "        eps = torch.randn_like(std)\n",
    "\n",
    "        return mean + eps * std\n",
    "\n",
    "\n",
    "    def forward(self, x, label):\n",
    "\n",
    "        z_mean, z_logvar = self.encoder(x, label)\n",
    " \n",
    "        z = self.reparameterize(z_mean, z_logvar)\n",
    " \n",
    "        reconstructed_x = self.decoder(z, label)\n",
    " \n",
    "        return reconstructed_x, z_mean, z_logvar"
   ]
  },
  {
   "cell_type": "markdown",
   "metadata": {},
   "source": [
    "**Función de perdida**\n",
    "\n",
    "* BCE (binary cross-entropy): recibe como parametros la imagen real y la reconstruida para medir cuanto se diferencian. Se suele usar para imágenes binarias (blanco/negro) como es nuestro caso, además de en problemas de clasificación binaria, de ahí lo del nombre (BINARY cros-entropy).\n",
    "\n",
    "* KL (divergencia Kullback-Leibler): mide como de diferentes son dos probabilidades de distribución. En CVAEs permite asegurar que el espacio latente sigue una distribución normal, ayudando al model a generar salidas con sentido. "
   ]
  },
  {
   "cell_type": "code",
   "execution_count": 9,
   "metadata": {},
   "outputs": [],
   "source": [
    "\n",
    "def loss_function(reconstructed_x, x, z_mean, z_logvar):\n",
    "\n",
    "    BCE = nn.BCELoss(reduction='sum')   (reconstructed_x.view(-1, 28*28)   ,    x.view(-1, 28*28))\n",
    "\n",
    "    # Cálculo de la divergencia KL\n",
    "    KL = -0.5 * torch.sum(1 + z_logvar - z_mean.pow(2) - z_logvar.exp())\n",
    "\n",
    "    return BCE + KL"
   ]
  },
  {
   "cell_type": "markdown",
   "metadata": {},
   "source": [
    "Usaremos la GPU para realizar el entrenamiento del modelo.\n",
    "\n",
    "Instanciamos el model y se los pasamos a la GPU.\n",
    "\n",
    "Usamos Adam como optimizador para el entrenamiento."
   ]
  },
  {
   "cell_type": "code",
   "execution_count": 10,
   "metadata": {},
   "outputs": [
    {
     "name": "stdout",
     "output_type": "stream",
     "text": [
      "10\n"
     ]
    }
   ],
   "source": [
    "device = torch.device(\"cuda\" if torch.cuda.is_available() else \"cpu\")\n",
    "\n",
    "model = CVAE(z_dim=latent_dim).to(device)\n",
    "\n",
    "optimizer = torch.optim.Adam(model.parameters(), lr=0.001)"
   ]
  },
  {
   "cell_type": "markdown",
   "metadata": {},
   "source": [
    "**Entrenamiento del modelo**\n",
    "\n",
    "Vamos a entrenar el modelo durante 50 epochs.\n",
    "\n",
    "En cada epoch calcularemos la funcion de perdida y la mostramos."
   ]
  },
  {
   "cell_type": "code",
   "execution_count": 11,
   "metadata": {},
   "outputs": [
    {
     "name": "stdout",
     "output_type": "stream",
     "text": [
      "Epoch 1/5, Loss: 162.58331987304686\n",
      "Epoch 2/5, Loss: 119.65887294921875\n",
      "Epoch 3/5, Loss: 112.91282361653646\n",
      "Epoch 4/5, Loss: 109.59543572591146\n",
      "Epoch 5/5, Loss: 107.50340895182292\n"
     ]
    }
   ],
   "source": [
    "epochs = 5\n",
    "for epoch in range(epochs):\n",
    "    model.train()\n",
    "    train_loss = 0\n",
    "    for data, target in train_loader:\n",
    "        data, target = data.to(device), target.to(device)\n",
    "        target_one_hot = torch.zeros(target.size(0), num_classes).to(device).scatter_(1, target.view(-1, 1), 1)\n",
    "        \n",
    "        optimizer.zero_grad()\n",
    "        reconstructed_data, z_mean, z_logvar = model(data, target_one_hot)\n",
    "        loss = loss_function(reconstructed_data, data, z_mean, z_logvar)\n",
    "        loss.backward()\n",
    "        optimizer.step()\n",
    "\n",
    "        train_loss += loss.item()\n",
    "\n",
    "    print(f\"Epoch {epoch+1}/{epochs}, Loss: {train_loss/len(train_loader.dataset)}\")\n"
   ]
  },
  {
   "cell_type": "code",
   "execution_count": 12,
   "metadata": {},
   "outputs": [
    {
     "data": {
      "image/png": "[encoded data removed]",
      "text/plain": [
       "<Figure size 640x480 with 1 Axes>"
      ]
     },
     "metadata": {},
     "output_type": "display_data"
    }
   ],
   "source": [
    "model.eval()\n",
    "with torch.no_grad():\n",
    "    labels = torch.tensor(6).to(device)  # Queremos generar el dígito \"8\"\n",
    "    labels_one_hot = torch.zeros(1, num_classes).to(device).scatter_(1, labels.view(-1, 1), 1)\n",
    "    z = torch.randn(1, latent_dim).to(device)  # Z aleatorio\n",
    "    generated_image = model.decoder(z, labels_one_hot)\n",
    "\n",
    "    plt.imshow(generated_image.cpu().squeeze().numpy(), cmap='gray')\n",
    "    plt.show()"
   ]
  },
  {
   "cell_type": "code",
   "execution_count": 13,
   "metadata": {},
   "outputs": [],
   "source": [
    "#torch.save(model.state_dict(), \"cvae_model.pth\")"
   ]
  },
  {
   "cell_type": "code",
   "execution_count": 21,
   "metadata": {},
   "outputs": [],
   "source": [
    "import torch\n",
    "import os\n",
    "\n",
    "artifact_dir = \"./artifacts\"\n",
    "os.makedirs(artifact_dir, exist_ok=True)\n",
    "\n",
    "# Guardar solo los pesos (recomendado para producción)\n",
    "torch.save(model.state_dict(), os.path.join(artifact_dir, \"cvae_model_state_dict.pth\"))\n",
    "\n",
    "# Opcional: guardar los hiperparámetros o configuración\n",
    "config = {\n",
    "    \"latent_dim\": latent_dim,\n",
    "    \"num_classes\": num_classes,\n",
    "    \"batch_size\": batch_size,\n",
    "    \"epochs\": epochs\n",
    "}\n",
    "import json\n",
    "with open(os.path.join(artifact_dir, \"config.json\"), \"w\") as f:\n",
    "    json.dump(config, f)"
   ]
  }
 ],
 "metadata": {
  "kernelspec": {
   "display_name": "dl_mlops",
   "language": "python",
   "name": "python3"
  },
  "language_info": {
   "codemirror_mode": {
    "name": "ipython",
    "version": 3
   },
   "file_extension": ".py",
   "mimetype": "text/x-python",
   "name": "python",
   "nbconvert_exporter": "python",
   "pygments_lexer": "ipython3",
   "version": "3.12.3"
  }
 },
 "nbformat": 4,
 "nbformat_minor": 2
}
